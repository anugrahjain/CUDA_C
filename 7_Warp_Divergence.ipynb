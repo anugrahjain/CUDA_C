{
  "nbformat": 4,
  "nbformat_minor": 0,
  "metadata": {
    "colab": {
      "provenance": [],
      "gpuType": "T4"
    },
    "kernelspec": {
      "name": "python3",
      "display_name": "Python 3"
    },
    "language_info": {
      "name": "python"
    },
    "accelerator": "GPU"
  },
  "cells": [
    {
      "cell_type": "code",
      "execution_count": 8,
      "metadata": {
        "colab": {
          "base_uri": "https://localhost:8080/"
        },
        "id": "_f3BH5yo8qvs",
        "outputId": "7c6a44bd-4393-4c8b-c6fe-4277f5f7623e"
      },
      "outputs": [
        {
          "output_type": "stream",
          "name": "stdout",
          "text": [
            "Writing warp_divergence.cu\n"
          ]
        }
      ],
      "source": [
        "%%writefile warp_divergence.cu\n",
        "\n",
        "#include <stdio.h>\n",
        "#include <cuda.h>\n",
        "\n",
        "#define N 1024  // Number of threads per block (Multiple warps)\n",
        "\n",
        "__global__ void warpDivergentKernel(int *arr) {\n",
        "    int tid = threadIdx.x + blockIdx.x * blockDim.x;\n",
        "\n",
        "    // Warp Divergence due to if-else\n",
        "    if (tid % 2 == 0) {\n",
        "        arr[tid] = tid * tid; // Squaring for even threads\n",
        "    } else {\n",
        "        arr[tid] = tid * tid * tid; // Cubing for odd threads\n",
        "    }\n",
        "}\n",
        "\n",
        "__global__ void optimizedKernel(int *arr) {\n",
        "    int tid = threadIdx.x + blockIdx.x * blockDim.x;\n",
        "    int isOdd = tid % 2;  // 1 if odd, 0 if even\n",
        "\n",
        "    // Optimized version avoiding warp divergence\n",
        "    arr[tid] = tid * tid * (1 + isOdd * (tid - 1));\n",
        "}\n",
        "\n",
        "int main() {\n",
        "    int *d_arr;\n",
        "    int size = N * sizeof(int);\n",
        "\n",
        "    // Allocate memory on the device\n",
        "    cudaMalloc((void**)&d_arr, size);\n",
        "\n",
        "    // CUDA event creation for timing\n",
        "    cudaEvent_t start, stop;\n",
        "    float timeDivergent, timeOptimized;\n",
        "    cudaEventCreate(&start);\n",
        "    cudaEventCreate(&stop);\n",
        "\n",
        "    // Set up kernel launch configuration\n",
        "    int threadsPerBlock = 256;\n",
        "    int numBlocks = (N + threadsPerBlock - 1) / threadsPerBlock;\n",
        "\n",
        "    // Measure time for Warp-Divergent Kernel\n",
        "    cudaEventRecord(start);\n",
        "    warpDivergentKernel<<<numBlocks, threadsPerBlock>>>(d_arr);\n",
        "    cudaEventRecord(stop);\n",
        "    cudaEventSynchronize(stop);\n",
        "    cudaEventElapsedTime(&timeDivergent, start, stop);\n",
        "\n",
        "    // Measure time for Optimized Kernel\n",
        "    cudaEventRecord(start);\n",
        "    optimizedKernel<<<numBlocks, threadsPerBlock>>>(d_arr);\n",
        "    cudaEventRecord(stop);\n",
        "    cudaEventSynchronize(stop);\n",
        "    cudaEventElapsedTime(&timeOptimized, start, stop);\n",
        "\n",
        "    // Print execution times\n",
        "    printf(\"Execution Time (Warp Divergence) : %.6f ms\\n\", timeDivergent);\n",
        "    printf(\"Execution Time (Optimized)      : %.6f ms\\n\", timeOptimized);\n",
        "    printf(\"Speedup Achieved: %.2fx\\n\", timeDivergent / timeOptimized);\n",
        "\n",
        "    // Cleanup\n",
        "    cudaFree(d_arr);\n",
        "    cudaEventDestroy(start);\n",
        "    cudaEventDestroy(stop);\n",
        "\n",
        "    return 0;\n",
        "}"
      ]
    },
    {
      "cell_type": "code",
      "source": [
        "!nvcc -arch=sm_75 warp_divergence.cu -o warp_divergence\n",
        "!./warp_divergence"
      ],
      "metadata": {
        "colab": {
          "base_uri": "https://localhost:8080/"
        },
        "id": "P9dOEFSj9fEm",
        "outputId": "d8920775-f400-4e30-f39a-5838176a07d5"
      },
      "execution_count": 10,
      "outputs": [
        {
          "output_type": "stream",
          "name": "stdout",
          "text": [
            "Execution Time (Warp Divergence) : 0.143424 ms\n",
            "Execution Time (Optimized)      : 0.019744 ms\n",
            "Speedup Achieved: 7.26x\n"
          ]
        }
      ]
    }
  ]
}