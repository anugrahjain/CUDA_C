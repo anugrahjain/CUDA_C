{
  "nbformat": 4,
  "nbformat_minor": 0,
  "metadata": {
    "colab": {
      "provenance": [],
      "gpuType": "T4"
    },
    "kernelspec": {
      "name": "python3",
      "display_name": "Python 3"
    },
    "language_info": {
      "name": "python"
    },
    "accelerator": "GPU"
  },
  "cells": [
    {
      "cell_type": "code",
      "execution_count": 6,
      "metadata": {
        "colab": {
          "base_uri": "https://localhost:8080/"
        },
        "id": "hpeYjuOLFPWQ",
        "outputId": "9f013731-bed1-414e-a7b7-d0275a1b26f8"
      },
      "outputs": [
        {
          "output_type": "stream",
          "name": "stdout",
          "text": [
            "Overwriting cuda_streams.cu\n"
          ]
        }
      ],
      "source": [
        "%%writefile cuda_streams.cu\n",
        "\n",
        "#include <stdio.h>\n",
        "#include <cuda.h>\n",
        "\n",
        "#define N 1000000 // Array size\n",
        "\n",
        "__global__ void squareKernel(int *arr, int size) {\n",
        "    int idx = blockIdx.x * blockDim.x + threadIdx.x;\n",
        "    if (idx < size) {\n",
        "        arr[idx] *= arr[idx];\n",
        "    }\n",
        "}\n",
        "\n",
        "int main() {\n",
        "    int *d_arr;\n",
        "    cudaMalloc((void**)&d_arr, N * sizeof(int));\n",
        "\n",
        "    int *h_arr = (int*)malloc(N * sizeof(int));\n",
        "    for (int i = 0; i < N; i++) h_arr[i] = i + 1;\n",
        "\n",
        "    cudaMemcpy(d_arr, h_arr, N * sizeof(int), cudaMemcpyHostToDevice);\n",
        "\n",
        "    cudaStream_t stream1, stream2;\n",
        "    cudaStreamCreate(&stream1);\n",
        "    cudaStreamCreate(&stream2);\n",
        "\n",
        "    int half_N = N / 2;\n",
        "\n",
        "    squareKernel<<<(half_N + 255) / 256, 256, 0, stream1>>>(d_arr, half_N);\n",
        "    squareKernel<<<(half_N + 255) / 256, 256, 0, stream2>>>(d_arr + half_N, half_N);\n",
        "\n",
        "    cudaStreamSynchronize(stream1);\n",
        "    cudaStreamSynchronize(stream2);\n",
        "\n",
        "    cudaMemcpy(h_arr, d_arr, N * sizeof(int), cudaMemcpyDeviceToHost);\n",
        "\n",
        "    printf(\"First 10 squared values: \");\n",
        "    for (int i = 0; i < 10; i++) {\n",
        "        printf(\"%d \", h_arr[i]);\n",
        "    }\n",
        "    printf(\"\\n\");\n",
        "\n",
        "    cudaStreamDestroy(stream1);\n",
        "    cudaStreamDestroy(stream2);\n",
        "    cudaFree(d_arr);\n",
        "    free(h_arr);\n",
        "\n",
        "    return 0;\n",
        "}"
      ]
    },
    {
      "cell_type": "code",
      "source": [
        "!nvcc -arch=sm_75 cuda_streams.cu -o cuda_streams\n",
        "!./cuda_streams"
      ],
      "metadata": {
        "colab": {
          "base_uri": "https://localhost:8080/"
        },
        "id": "vyYzC6OBFoGo",
        "outputId": "5898a129-690f-484b-c923-f1c51f6f35f6"
      },
      "execution_count": 7,
      "outputs": [
        {
          "output_type": "stream",
          "name": "stdout",
          "text": [
            "First 10 squared values: 1 4 9 16 25 36 49 64 81 100 \n"
          ]
        }
      ]
    }
  ]
}